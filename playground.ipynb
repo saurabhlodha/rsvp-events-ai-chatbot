{
 "cells": [
  {
   "cell_type": "code",
   "id": "initial_id",
   "metadata": {
    "collapsed": true,
    "ExecuteTime": {
     "end_time": "2024-12-13T23:21:01.864291Z",
     "start_time": "2024-12-13T23:21:01.856741Z"
    }
   },
   "source": [
    "import os\n",
    "from dotenv import load_dotenv\n",
    "load_dotenv()"
   ],
   "outputs": [
    {
     "data": {
      "text/plain": [
       "True"
      ]
     },
     "execution_count": 15,
     "metadata": {},
     "output_type": "execute_result"
    }
   ],
   "execution_count": 15
  },
  {
   "metadata": {
    "ExecuteTime": {
     "end_time": "2024-12-13T23:35:25.643481Z",
     "start_time": "2024-12-13T23:35:25.059537Z"
    }
   },
   "cell_type": "code",
   "source": "from langchain_google_genai import ChatGoogleGenerativeAI",
   "id": "ee25dcbddb75bf0f",
   "outputs": [],
   "execution_count": 19
  },
  {
   "metadata": {
    "ExecuteTime": {
     "end_time": "2024-12-14T00:01:28.557465Z",
     "start_time": "2024-12-14T00:01:28.550915Z"
    }
   },
   "cell_type": "code",
   "source": "from src.config import GEMINI_API_KEY, SYSTEM_PROMPT",
   "id": "636b32eec6b14952",
   "outputs": [],
   "execution_count": 32
  },
  {
   "metadata": {
    "ExecuteTime": {
     "end_time": "2024-12-13T23:21:04.393581Z",
     "start_time": "2024-12-13T23:21:04.391013Z"
    }
   },
   "cell_type": "code",
   "source": [
    "llm = ChatGoogleGenerativeAI(\n",
    "            model=\"gemini-pro\",\n",
    "            google_api_key=GEMINI_API_KEY,\n",
    "            temperature=0.7\n",
    "        )"
   ],
   "id": "3a25be9bbf7ba665",
   "outputs": [],
   "execution_count": 16
  },
  {
   "metadata": {
    "ExecuteTime": {
     "end_time": "2024-12-14T00:01:31.038862Z",
     "start_time": "2024-12-14T00:01:31.035945Z"
    }
   },
   "cell_type": "code",
   "source": "messages = [(\"system\", SYSTEM_PROMPT)]",
   "id": "9cbb2f99249d5bee",
   "outputs": [],
   "execution_count": 33
  },
  {
   "metadata": {
    "ExecuteTime": {
     "end_time": "2024-12-14T00:01:33.065386Z",
     "start_time": "2024-12-14T00:01:33.062447Z"
    }
   },
   "cell_type": "code",
   "source": [
    "user_input = \"User interests: arts. Acknowledge and suggest what kinds of events they might like.\"\n",
    "messages.append((\"user\", user_input))"
   ],
   "id": "adf669af3c0d8e6",
   "outputs": [],
   "execution_count": 34
  },
  {
   "metadata": {
    "ExecuteTime": {
     "end_time": "2024-12-14T00:01:35.121237Z",
     "start_time": "2024-12-14T00:01:35.117189Z"
    }
   },
   "cell_type": "code",
   "source": "messages",
   "id": "a8b313e6a7d2bce2",
   "outputs": [
    {
     "data": {
      "text/plain": [
       "[('system',\n",
       "  \"You are an AI assistant that helps users find and RSVP to events on Meetup.com and Lu.ma. \\nYour role is to understand the user's preferences and help them make decisions about which events to attend.\\nBe friendly, concise, and helpful.\"),\n",
       " ('user',\n",
       "  'User interests: arts. Acknowledge and suggest what kinds of events they might like.')]"
      ]
     },
     "execution_count": 35,
     "metadata": {},
     "output_type": "execute_result"
    }
   ],
   "execution_count": 35
  },
  {
   "metadata": {
    "ExecuteTime": {
     "end_time": "2024-12-14T00:00:22.526787Z",
     "start_time": "2024-12-14T00:00:17.853657Z"
    }
   },
   "cell_type": "code",
   "source": "ai_response = llm.invoke(messages)",
   "id": "829db1c341d6ae37",
   "outputs": [],
   "execution_count": 28
  },
  {
   "metadata": {
    "ExecuteTime": {
     "end_time": "2024-12-14T00:00:26.001495Z",
     "start_time": "2024-12-14T00:00:25.996978Z"
    }
   },
   "cell_type": "code",
   "source": "ai_response",
   "id": "8f7068fc476682ff",
   "outputs": [
    {
     "data": {
      "text/plain": [
       "AIMessage(content=\"**Acknowledgement:**\\n\\nI understand that you're interested in the arts. That's great! The arts can be a wonderful way to express yourself, learn about different cultures, and connect with others.\\n\\n**Suggestions for Events:**\\n\\nBased on your interest in the arts, I'd suggest checking out the following types of events:\\n\\n* **Art exhibitions:** These events showcase the work of local, national, and international artists. You can view paintings, sculptures, photographs, and other works of art.\\n* **Theater performances:** These events feature live performances of plays, musicals, and other theatrical productions.\\n* **Concerts:** These events feature live performances by musicians and bands.\\n* **Dance performances:** These events feature live performances by dancers and dance companies.\\n* **Film screenings:** These events showcase independent, foreign, and classic films.\\n* **Literary readings:** These events feature authors reading from their work.\\n* **Art workshops:** These events provide hands-on experience in different art forms, such as painting, drawing, and sculpture.\\n* **Art festivals:** These events feature a variety of art-related activities, such as live performances, art exhibitions, and workshops.\\n* **Artist talks:** These events feature artists discussing their work and creative process.\\n* **Gallery openings:** These events celebrate the opening of new art exhibitions.\\n\\nI hope this gives you some ideas for events that you might enjoy. Please let me know if you have any other questions.\")"
      ]
     },
     "execution_count": 29,
     "metadata": {},
     "output_type": "execute_result"
    }
   ],
   "execution_count": 29
  },
  {
   "metadata": {
    "ExecuteTime": {
     "end_time": "2024-12-13T23:39:25.088025Z",
     "start_time": "2024-12-13T23:39:20.876267Z"
    }
   },
   "cell_type": "code",
   "source": "",
   "id": "748561a6dceac362",
   "outputs": [],
   "execution_count": 24
  }
 ],
 "metadata": {
  "kernelspec": {
   "display_name": "Python 3",
   "language": "python",
   "name": "python3"
  },
  "language_info": {
   "codemirror_mode": {
    "name": "ipython",
    "version": 2
   },
   "file_extension": ".py",
   "mimetype": "text/x-python",
   "name": "python",
   "nbconvert_exporter": "python",
   "pygments_lexer": "ipython2",
   "version": "2.7.6"
  }
 },
 "nbformat": 4,
 "nbformat_minor": 5
}
